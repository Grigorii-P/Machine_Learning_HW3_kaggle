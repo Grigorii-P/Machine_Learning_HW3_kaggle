{
 "cells": [
  {
   "cell_type": "markdown",
   "metadata": {},
   "source": [
    "# to do\n",
    "- test set has to be put in a goof form\n",
    "- the promointerval was taken out until I can put it in a good form as well\n",
    "- how to change the arrays inside an array as individual columns (otherwise I think SVM etc will not work)"
   ]
  },
  {
   "cell_type": "code",
   "execution_count": 1,
   "metadata": {},
   "outputs": [],
   "source": [
    "import numpy as np\n",
    "import pandas \n",
    "import matplotlib.pyplot as plt\n",
    "from sklearn import svm\n",
    "import numpy as np\n"
   ]
  },
  {
   "cell_type": "code",
   "execution_count": null,
   "metadata": {
    "collapsed": true
   },
   "outputs": [],
   "source": []
  },
  {
   "cell_type": "code",
   "execution_count": 2,
   "metadata": {
    "collapsed": true
   },
   "outputs": [],
   "source": [
    "#read the files\n",
    "store = pandas.read_csv('store.csv', sep = ',')\n",
    "train_initial = pandas.read_csv('train_v2.csv',dtype={\"StateHoliday\": str})\n",
    "test = pandas.read_csv('test_v2.csv', sep = \",\") \n",
    "\n",
    "#take out the sales (we don't have this info in the test)\n",
    "sales_train = train_initial['Sales']\n",
    "train = train_initial.drop('Sales', axis=1)\n",
    "\n",
    "\n",
    "#take out days were it's closed - When 0 customers will be identified in test data\n",
    "# we will automatically put the test sales at 0.\n",
    "sales_train = pandas.Series.to_frame(sales_train)\n",
    "train = train[train.Customers != 0]\n",
    "sales_train = sales_train[sales_train.Sales != 0]"
   ]
  },
  {
   "cell_type": "markdown",
   "metadata": {},
   "source": [
    " "
   ]
  },
  {
   "cell_type": "code",
   "execution_count": null,
   "metadata": {
    "collapsed": true
   },
   "outputs": [],
   "source": []
  },
  {
   "cell_type": "code",
   "execution_count": null,
   "metadata": {
    "collapsed": true
   },
   "outputs": [],
   "source": []
  },
  {
   "cell_type": "code",
   "execution_count": 3,
   "metadata": {
    "collapsed": true,
    "scrolled": true
   },
   "outputs": [],
   "source": [
    "# put the 2 types of data together\n",
    "df = train.join(store.set_index('Store'), on='Store')\n",
    "test = test.join(store.set_index('Store'), on='Store')\n",
    "\n",
    "# extract the date as day/month/year/weak of the year\n",
    "df['Date']  = pandas.to_datetime(df['Date'], errors='coerce')\n",
    "df['Year']  = df['Date'].dt.year\n",
    "df['Month'] = df['Date'].dt.month\n",
    "df['Day'] = df['Date'].dt.day\n",
    "df['WeekOfYear'] = df['Date'].dt.weekofyear\n",
    "\n",
    "test['Date']  = pandas.to_datetime(test['Date'], errors='coerce')\n",
    "test['Year']  = test['Date'].dt.year\n",
    "test['Month'] = test['Date'].dt.month\n",
    "test['Day'] = test['Date'].dt.day\n",
    "test['WeekOfYear'] = test['Date'].dt.weekofyear"
   ]
  },
  {
   "cell_type": "code",
   "execution_count": null,
   "metadata": {
    "collapsed": true
   },
   "outputs": [],
   "source": []
  },
  {
   "cell_type": "code",
   "execution_count": null,
   "metadata": {
    "collapsed": true
   },
   "outputs": [],
   "source": []
  },
  {
   "cell_type": "code",
   "execution_count": 4,
   "metadata": {},
   "outputs": [],
   "source": [
    "# combine train and test (in that oder) to make sure all tranformation are the same for \n",
    "# test and train (same dummies etc)\n",
    "number_train = df.shape[0]\n",
    "number_test = test.shape[0]\n",
    "frames = [df,test]\n",
    "result = pandas.concat(frames)"
   ]
  },
  {
   "cell_type": "code",
   "execution_count": 5,
   "metadata": {
    "collapsed": true
   },
   "outputs": [],
   "source": [
    "#fill the missing values with -1\n",
    "result = result.fillna(-1)"
   ]
  },
  {
   "cell_type": "code",
   "execution_count": 6,
   "metadata": {
    "collapsed": true
   },
   "outputs": [],
   "source": [
    "# the code in this cell has been inspired by a similar function foud online at :\n",
    "# http://www.akbarian.org/notes/sale-forecasting-time-series-analysis/\n",
    "\n",
    "#we will detect wether there is a promotion in this month:\n",
    "monthAsString = {1:'Jan', 2:'Feb', 3:'Mar', 4:'Apr', 5:'May', 6:'Jun',\n",
    "                     7:'Jul', 8:'Aug', 9:'Sept', 10:'Oct', 11:'Nov', 12:'Dec'}\n",
    "result['MonthCompare'] = result.Month.map(monthAsString)\n",
    "\n",
    "result['IsPromo2Month'] = 0\n",
    "\n",
    "for interval in result.PromoInterval.unique():\n",
    "        if interval != -1:\n",
    "            for month in interval.split(','):\n",
    "                condition = (result.MonthCompare == month) & (result.PromoInterval == interval)\n",
    "                # If promo started this year, Week of Year must be > Promo2SinceWeek\n",
    "                cond1 = (condition & (result.Year == result.Promo2SinceYear)\n",
    "                         & (result.WeekOfYear >= result.Promo2SinceWeek) )\n",
    "                # Or If promo started previous year, Week of Year doesn't matter\n",
    "                cond2 = condition & (result.Year > result.Promo2SinceYear)\n",
    "                final_condition = cond1 | cond2\n",
    "                result.loc[final_condition, 'IsPromo2Month'] = 1\n",
    "\n",
    "\n",
    "# detect if there is competition open at the time of the evaluation\n",
    "result['Competition'] = 0\n",
    "first_condition = result.Year > result.CompetitionOpenSinceYear\n",
    "second_condition = ((result.Year == result.CompetitionOpenSinceYear)\n",
    "          & (result.Month >= result.CompetitionOpenSinceMonth))\n",
    "fullcond = first_condition | second_condition\n",
    "result.loc[fullcond, 'Competition'] = 1"
   ]
  },
  {
   "cell_type": "code",
   "execution_count": 7,
   "metadata": {
    "collapsed": true
   },
   "outputs": [],
   "source": [
    "#drop data that is not important anymore\n",
    "result.drop(['MonthCompare','PromoInterval','Date','Store'], axis=1, inplace=True)"
   ]
  },
  {
   "cell_type": "code",
   "execution_count": 8,
   "metadata": {},
   "outputs": [
    {
     "data": {
      "text/html": [
       "<div>\n",
       "<style>\n",
       "    .dataframe thead tr:only-child th {\n",
       "        text-align: right;\n",
       "    }\n",
       "\n",
       "    .dataframe thead th {\n",
       "        text-align: left;\n",
       "    }\n",
       "\n",
       "    .dataframe tbody tr th {\n",
       "        vertical-align: top;\n",
       "    }\n",
       "</style>\n",
       "<table border=\"1\" class=\"dataframe\">\n",
       "  <thead>\n",
       "    <tr style=\"text-align: right;\">\n",
       "      <th></th>\n",
       "      <th>DayOfWeek</th>\n",
       "      <th>Customers</th>\n",
       "      <th>Open</th>\n",
       "      <th>Promo</th>\n",
       "      <th>StateHoliday</th>\n",
       "      <th>SchoolHoliday</th>\n",
       "      <th>StoreType</th>\n",
       "      <th>Assortment</th>\n",
       "      <th>CompetitionDistance</th>\n",
       "      <th>CompetitionOpenSinceMonth</th>\n",
       "      <th>CompetitionOpenSinceYear</th>\n",
       "      <th>Promo2</th>\n",
       "      <th>Promo2SinceWeek</th>\n",
       "      <th>Promo2SinceYear</th>\n",
       "      <th>Year</th>\n",
       "      <th>Month</th>\n",
       "      <th>Day</th>\n",
       "      <th>WeekOfYear</th>\n",
       "      <th>IsPromo2Month</th>\n",
       "      <th>Competition</th>\n",
       "    </tr>\n",
       "  </thead>\n",
       "  <tbody>\n",
       "    <tr>\n",
       "      <th>0</th>\n",
       "      <td>5</td>\n",
       "      <td>616</td>\n",
       "      <td>1</td>\n",
       "      <td>1</td>\n",
       "      <td>0</td>\n",
       "      <td>0</td>\n",
       "      <td>c</td>\n",
       "      <td>a</td>\n",
       "      <td>1270.0</td>\n",
       "      <td>9.0</td>\n",
       "      <td>2008.0</td>\n",
       "      <td>0</td>\n",
       "      <td>-1.0</td>\n",
       "      <td>-1.0</td>\n",
       "      <td>2015</td>\n",
       "      <td>1</td>\n",
       "      <td>30</td>\n",
       "      <td>5</td>\n",
       "      <td>0</td>\n",
       "      <td>1</td>\n",
       "    </tr>\n",
       "    <tr>\n",
       "      <th>1</th>\n",
       "      <td>5</td>\n",
       "      <td>624</td>\n",
       "      <td>1</td>\n",
       "      <td>1</td>\n",
       "      <td>0</td>\n",
       "      <td>0</td>\n",
       "      <td>a</td>\n",
       "      <td>a</td>\n",
       "      <td>570.0</td>\n",
       "      <td>11.0</td>\n",
       "      <td>2007.0</td>\n",
       "      <td>1</td>\n",
       "      <td>13.0</td>\n",
       "      <td>2010.0</td>\n",
       "      <td>2015</td>\n",
       "      <td>1</td>\n",
       "      <td>30</td>\n",
       "      <td>5</td>\n",
       "      <td>1</td>\n",
       "      <td>1</td>\n",
       "    </tr>\n",
       "    <tr>\n",
       "      <th>2</th>\n",
       "      <td>5</td>\n",
       "      <td>678</td>\n",
       "      <td>1</td>\n",
       "      <td>1</td>\n",
       "      <td>0</td>\n",
       "      <td>0</td>\n",
       "      <td>a</td>\n",
       "      <td>a</td>\n",
       "      <td>14130.0</td>\n",
       "      <td>12.0</td>\n",
       "      <td>2006.0</td>\n",
       "      <td>1</td>\n",
       "      <td>14.0</td>\n",
       "      <td>2011.0</td>\n",
       "      <td>2015</td>\n",
       "      <td>1</td>\n",
       "      <td>30</td>\n",
       "      <td>5</td>\n",
       "      <td>1</td>\n",
       "      <td>1</td>\n",
       "    </tr>\n",
       "    <tr>\n",
       "      <th>3</th>\n",
       "      <td>5</td>\n",
       "      <td>1632</td>\n",
       "      <td>1</td>\n",
       "      <td>1</td>\n",
       "      <td>0</td>\n",
       "      <td>0</td>\n",
       "      <td>c</td>\n",
       "      <td>c</td>\n",
       "      <td>620.0</td>\n",
       "      <td>9.0</td>\n",
       "      <td>2009.0</td>\n",
       "      <td>0</td>\n",
       "      <td>-1.0</td>\n",
       "      <td>-1.0</td>\n",
       "      <td>2015</td>\n",
       "      <td>1</td>\n",
       "      <td>30</td>\n",
       "      <td>5</td>\n",
       "      <td>0</td>\n",
       "      <td>1</td>\n",
       "    </tr>\n",
       "    <tr>\n",
       "      <th>4</th>\n",
       "      <td>5</td>\n",
       "      <td>617</td>\n",
       "      <td>1</td>\n",
       "      <td>1</td>\n",
       "      <td>0</td>\n",
       "      <td>0</td>\n",
       "      <td>a</td>\n",
       "      <td>a</td>\n",
       "      <td>29910.0</td>\n",
       "      <td>4.0</td>\n",
       "      <td>2015.0</td>\n",
       "      <td>0</td>\n",
       "      <td>-1.0</td>\n",
       "      <td>-1.0</td>\n",
       "      <td>2015</td>\n",
       "      <td>1</td>\n",
       "      <td>30</td>\n",
       "      <td>5</td>\n",
       "      <td>0</td>\n",
       "      <td>0</td>\n",
       "    </tr>\n",
       "  </tbody>\n",
       "</table>\n",
       "</div>"
      ],
      "text/plain": [
       "   DayOfWeek  Customers  Open  Promo StateHoliday  SchoolHoliday StoreType  \\\n",
       "0          5        616     1      1            0              0         c   \n",
       "1          5        624     1      1            0              0         a   \n",
       "2          5        678     1      1            0              0         a   \n",
       "3          5       1632     1      1            0              0         c   \n",
       "4          5        617     1      1            0              0         a   \n",
       "\n",
       "  Assortment  CompetitionDistance  CompetitionOpenSinceMonth  \\\n",
       "0          a               1270.0                        9.0   \n",
       "1          a                570.0                       11.0   \n",
       "2          a              14130.0                       12.0   \n",
       "3          c                620.0                        9.0   \n",
       "4          a              29910.0                        4.0   \n",
       "\n",
       "   CompetitionOpenSinceYear  Promo2  Promo2SinceWeek  Promo2SinceYear  Year  \\\n",
       "0                    2008.0       0             -1.0             -1.0  2015   \n",
       "1                    2007.0       1             13.0           2010.0  2015   \n",
       "2                    2006.0       1             14.0           2011.0  2015   \n",
       "3                    2009.0       0             -1.0             -1.0  2015   \n",
       "4                    2015.0       0             -1.0             -1.0  2015   \n",
       "\n",
       "   Month  Day  WeekOfYear  IsPromo2Month  Competition  \n",
       "0      1   30           5              0            1  \n",
       "1      1   30           5              1            1  \n",
       "2      1   30           5              1            1  \n",
       "3      1   30           5              0            1  \n",
       "4      1   30           5              0            0  "
      ]
     },
     "execution_count": 8,
     "metadata": {},
     "output_type": "execute_result"
    }
   ],
   "source": [
    "result.head()"
   ]
  },
  {
   "cell_type": "code",
   "execution_count": null,
   "metadata": {
    "collapsed": true
   },
   "outputs": [],
   "source": []
  },
  {
   "cell_type": "code",
   "execution_count": 9,
   "metadata": {
    "collapsed": true
   },
   "outputs": [],
   "source": [
    "# def days_between(d1, d2): #d1 and d2 must be datetime object\n",
    "#     d1 = datetime.strptime(d1, \"%Y-%m-%d\")\n",
    "#     d2 = datetime.strptime(d2, \"%Y-%m-%d\")\n",
    "#     return abs((d2 - d1).days)"
   ]
  },
  {
   "cell_type": "code",
   "execution_count": 10,
   "metadata": {
    "collapsed": true
   },
   "outputs": [],
   "source": [
    "# def scalling (category) :\n",
    "#     result[category] = result[category] - result[category].mean()\n",
    "#     \n",
    "# scalling ('Year')\n",
    "# scalling('Customers')\n",
    "\n",
    "# result['CompetitionDistance'] = result['CompetitionDistance'].fillna(0)\n",
    "# \n",
    "# result['CompetitionFar'] = 0*result['CompetitionDistance']\n",
    "\n",
    "\n",
    "        \n",
    "\n",
    "        "
   ]
  },
  {
   "cell_type": "code",
   "execution_count": 11,
   "metadata": {},
   "outputs": [],
   "source": [
    "# for i in range (result.shape[0]) :\n",
    "#     if result['CompetitionExist'].iloc[i] > 0 :\n",
    "#         result['CompetitionExist'].iloc[i] = 1\n",
    "#     else :\n",
    "#         result['CompetitionExist'].iloc[i] = 0\n",
    "        \n",
    "    # if result['CompetitionDistance'].iloc[i] > result['CompetitionDistance'].mean() :\n",
    "    #     result['CompetitionFar'].iloc[i] = 1\n",
    "    # else :\n",
    "    #     result['CompetitionFar'].iloc[i] = 0"
   ]
  },
  {
   "cell_type": "code",
   "execution_count": 12,
   "metadata": {},
   "outputs": [],
   "source": [
    "# replace the caracters by numbers, to be used in decision trees later\n",
    "mappings = {'0':0, 'a':1, 'b':2, 'c':3, 'd':4}\n",
    "result.StateHoliday.replace(mappings, inplace=True)\n",
    "result.StoreType.replace(mappings, inplace=True)\n",
    "result.Assortment.replace(mappings, inplace=True)"
   ]
  },
  {
   "cell_type": "code",
   "execution_count": 13,
   "metadata": {
    "collapsed": true
   },
   "outputs": [],
   "source": [
    "# By analizing the data some funny behaviour can happen in the beginning or the end of every month\n",
    "# to adress this issue we add 2 more parameters to identify the beginning and end of month\n",
    "# finally in general the month of december behaves very differently than the others\n",
    "# because of christmas.\n",
    "\n",
    "result['Friday'] = 0\n",
    "result['EarlyInMonth'] = 0\n",
    "result['LateInMonth'] = 0\n",
    "result['December'] = 0\n",
    "result.loc[result.DayOfWeek == 5,'Friday'] = 1\n",
    "result.loc[result.Day < 5, 'EarlyInMonth'] = 1\n",
    "result.loc[result.Day > 25, 'LateInMonth'] = 1\n",
    "result.loc[result.Month == 12,'December'] = 1"
   ]
  },
  {
   "cell_type": "code",
   "execution_count": 14,
   "metadata": {
    "collapsed": true
   },
   "outputs": [],
   "source": [
    "result = pandas.get_dummies(result, columns=['DayOfWeek', 'StateHoliday', 'StoreType', \n",
    "                                             'Assortment', 'Month', 'WeekOfYear', 'CompetitionOpenSinceYear', \n",
    "                                             'Promo2SinceYear'], dummy_na = True)"
   ]
  },
  {
   "cell_type": "code",
   "execution_count": 15,
   "metadata": {
    "collapsed": true
   },
   "outputs": [],
   "source": [
    "df = result.iloc[:number_train,:]\n",
    "test = result.iloc[number_train:,:]"
   ]
  },
  {
   "cell_type": "code",
   "execution_count": 16,
   "metadata": {
    "collapsed": true
   },
   "outputs": [],
   "source": [
    "df = df.astype(np.float32)\n",
    "test = test.astype(np.float32)"
   ]
  },
  {
   "cell_type": "code",
   "execution_count": null,
   "metadata": {
    "collapsed": true,
    "scrolled": true
   },
   "outputs": [],
   "source": []
  },
  {
   "cell_type": "code",
   "execution_count": null,
   "metadata": {
    "collapsed": true
   },
   "outputs": [],
   "source": [
    "\n",
    "\n"
   ]
  },
  {
   "cell_type": "code",
   "execution_count": null,
   "metadata": {
    "collapsed": true
   },
   "outputs": [],
   "source": [
    "\n"
   ]
  },
  {
   "cell_type": "code",
   "execution_count": null,
   "metadata": {
    "collapsed": true
   },
   "outputs": [],
   "source": []
  },
  {
   "cell_type": "code",
   "execution_count": null,
   "metadata": {
    "collapsed": true,
    "scrolled": true
   },
   "outputs": [],
   "source": []
  },
  {
   "cell_type": "code",
   "execution_count": null,
   "metadata": {
    "collapsed": true
   },
   "outputs": [],
   "source": []
  },
  {
   "cell_type": "code",
   "execution_count": null,
   "metadata": {
    "collapsed": true
   },
   "outputs": [],
   "source": []
  },
  {
   "cell_type": "code",
   "execution_count": 17,
   "metadata": {
    "collapsed": true,
    "scrolled": true
   },
   "outputs": [],
   "source": [
    "#put the data as a numpy array\n",
    "data_train = df.values\n",
    "#sales_train = sales_train_train.values\n",
    "sales_train = pandas.DataFrame.as_matrix(sales_train)"
   ]
  },
  {
   "cell_type": "code",
   "execution_count": 18,
   "metadata": {
    "collapsed": true
   },
   "outputs": [],
   "source": [
    "sales_train = sales_train.reshape(len(sales_train),)"
   ]
  },
  {
   "cell_type": "code",
   "execution_count": null,
   "metadata": {
    "collapsed": true
   },
   "outputs": [],
   "source": []
  },
  {
   "cell_type": "code",
   "execution_count": null,
   "metadata": {
    "collapsed": true
   },
   "outputs": [],
   "source": []
  },
  {
   "cell_type": "code",
   "execution_count": null,
   "metadata": {
    "collapsed": true
   },
   "outputs": [],
   "source": []
  },
  {
   "cell_type": "code",
   "execution_count": null,
   "metadata": {},
   "outputs": [],
   "source": [
    "clf = svm.SVR(C=10.0, cache_size=200, coef0=0.0, degree=3, epsilon=0.05, gamma='auto',\n",
    "    kernel='poly', max_iter = -1, shrinking=True, tol=0.005, verbose=False, ).fit(data_train, sales_train)"
   ]
  },
  {
   "cell_type": "code",
   "execution_count": null,
   "metadata": {
    "collapsed": true
   },
   "outputs": [],
   "source": [
    "prediction_of_sales = clf.predict(test)"
   ]
  },
  {
   "cell_type": "code",
   "execution_count": null,
   "metadata": {
    "collapsed": true
   },
   "outputs": [],
   "source": [
    "for i in range (number_test) :\n",
    "    if test['Customers'].iloc[i] == 0 :\n",
    "        prediction_of_sales[i] = 0"
   ]
  },
  {
   "cell_type": "code",
   "execution_count": null,
   "metadata": {
    "collapsed": true
   },
   "outputs": [],
   "source": [
    "from math import sqrt\n",
    "def rmspe(y,y_pred):\n",
    "    summ = 0\n",
    "    for i in range(len(y)):\n",
    "        if y[i] != 0:\n",
    "            summ += (1-y_pred[i]/y[i])**2\n",
    "    return sqrt(summ/len(y))"
   ]
  },
  {
   "cell_type": "code",
   "execution_count": null,
   "metadata": {
    "collapsed": true
   },
   "outputs": [],
   "source": [
    "prediction_of_sales_in_sample = clf.predict(data_train)"
   ]
  },
  {
   "cell_type": "code",
   "execution_count": null,
   "metadata": {},
   "outputs": [],
   "source": [
    "rmspe (sales_train, prediction_of_sales_in_sample)"
   ]
  },
  {
   "cell_type": "code",
   "execution_count": null,
   "metadata": {
    "collapsed": true
   },
   "outputs": [],
   "source": [
    "submission = pandas.DataFrame()\n",
    "submission['Sales'] = prediction_of_sales\n",
    "# submission.Sales = submission.Sales.astype(int)\n",
    "cols = ['Id','Sales']\n",
    "submission['Id'] = submission.index + 1\n",
    "submission = submission[cols]\n",
    "submission.to_csv('submission_svm.csv', index=False)"
   ]
  },
  {
   "cell_type": "code",
   "execution_count": null,
   "metadata": {
    "collapsed": true
   },
   "outputs": [],
   "source": []
  },
  {
   "cell_type": "code",
   "execution_count": null,
   "metadata": {
    "collapsed": true
   },
   "outputs": [],
   "source": []
  },
  {
   "cell_type": "code",
   "execution_count": null,
   "metadata": {
    "collapsed": true
   },
   "outputs": [],
   "source": []
  },
  {
   "cell_type": "code",
   "execution_count": null,
   "metadata": {
    "collapsed": true
   },
   "outputs": [],
   "source": []
  },
  {
   "cell_type": "code",
   "execution_count": null,
   "metadata": {
    "collapsed": true
   },
   "outputs": [],
   "source": []
  }
 ],
 "metadata": {
  "kernelspec": {
   "display_name": "Python 3",
   "language": "python",
   "name": "python3"
  },
  "language_info": {
   "codemirror_mode": {
    "name": "ipython",
    "version": 3
   },
   "file_extension": ".py",
   "mimetype": "text/x-python",
   "name": "python",
   "nbconvert_exporter": "python",
   "pygments_lexer": "ipython3",
   "version": "3.6.1"
  }
 },
 "nbformat": 4,
 "nbformat_minor": 2
}
