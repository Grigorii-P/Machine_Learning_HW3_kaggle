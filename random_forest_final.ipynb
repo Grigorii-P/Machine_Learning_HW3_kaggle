{
 "cells": [
  {
   "cell_type": "markdown",
   "metadata": {},
   "source": [
    "# to do\n",
    "- test set has to be put in a goof form\n",
    "- the promointerval was taken out until I can put it in a good form as well\n",
    "- how to change the arrays inside an array as individual columns (otherwise I think SVM etc will not work)"
   ]
  },
  {
   "cell_type": "code",
   "execution_count": 19,
   "metadata": {
    "collapsed": true
   },
   "outputs": [],
   "source": [
    "import numpy as np\n",
    "import pandas \n",
    "import sklearn as sk\n",
    "from sklearn.ensemble import RandomForestRegressor\n",
    "from sklearn.datasets import make_regression\n",
    "from sklearn import preprocessing\n",
    "from sklearn.model_selection import train_test_split\n",
    "from math import sqrt\n"
   ]
  },
  {
   "cell_type": "code",
   "execution_count": null,
   "metadata": {
    "collapsed": true
   },
   "outputs": [],
   "source": []
  },
  {
   "cell_type": "code",
   "execution_count": 2,
   "metadata": {
    "collapsed": true
   },
   "outputs": [],
   "source": [
    "#read the files\n",
    "store = pandas.read_csv('store.csv', sep = ',')\n",
    "train_initial = pandas.read_csv('train_v2.csv',dtype={\"StateHoliday\": str})\n",
    "test = pandas.read_csv('test_v2.csv', sep = \",\") \n",
    "\n",
    "#take out the sales (we don't have this info in the test)\n",
    "sales_train = train_initial['Sales']\n",
    "train = train_initial.drop('Sales', axis=1)\n",
    "\n",
    "\n",
    "#take out days were it's closed - When 0 customers will be identified in test data\n",
    "# we will automatically put the test sales at 0.\n",
    "sales_train = pandas.Series.to_frame(sales_train)\n",
    "train = train[train.Customers != 0]\n",
    "sales_train = sales_train[sales_train.Sales != 0]"
   ]
  },
  {
   "cell_type": "markdown",
   "metadata": {},
   "source": [
    " "
   ]
  },
  {
   "cell_type": "code",
   "execution_count": null,
   "metadata": {
    "collapsed": true
   },
   "outputs": [],
   "source": []
  },
  {
   "cell_type": "code",
   "execution_count": null,
   "metadata": {
    "collapsed": true
   },
   "outputs": [],
   "source": []
  },
  {
   "cell_type": "code",
   "execution_count": 3,
   "metadata": {
    "collapsed": true,
    "scrolled": true
   },
   "outputs": [],
   "source": [
    "# put the 2 types of data together\n",
    "df = train.join(store.set_index('Store'), on='Store')\n",
    "test = test.join(store.set_index('Store'), on='Store')\n",
    "\n",
    "# extract the date as day/month/year/weak of the year\n",
    "df['Date']  = pandas.to_datetime(df['Date'], errors='coerce')\n",
    "df['Year']  = df['Date'].dt.year\n",
    "df['Month'] = df['Date'].dt.month\n",
    "df['Day'] = df['Date'].dt.day\n",
    "df['WeekOfYear'] = df['Date'].dt.weekofyear\n",
    "\n",
    "test['Date']  = pandas.to_datetime(test['Date'], errors='coerce')\n",
    "test['Year']  = test['Date'].dt.year\n",
    "test['Month'] = test['Date'].dt.month\n",
    "test['Day'] = test['Date'].dt.day\n",
    "test['WeekOfYear'] = test['Date'].dt.weekofyear"
   ]
  },
  {
   "cell_type": "code",
   "execution_count": 4,
   "metadata": {
    "collapsed": true
   },
   "outputs": [],
   "source": [
    "# combine train and test (in that oder) to make sure all tranformation are the same for \n",
    "# test and train (same dummies etc)\n",
    "number_train = df.shape[0]\n",
    "number_test = test.shape[0]\n",
    "frames = [df,test]\n",
    "result = pandas.concat(frames)"
   ]
  },
  {
   "cell_type": "code",
   "execution_count": 5,
   "metadata": {
    "collapsed": true
   },
   "outputs": [],
   "source": [
    "result = result.fillna(-1)"
   ]
  },
  {
   "cell_type": "code",
   "execution_count": 6,
   "metadata": {
    "collapsed": true
   },
   "outputs": [],
   "source": [
    "# the code in this cell has been inspired by a similar function foud online at :\n",
    "# http://www.akbarian.org/notes/sale-forecasting-time-series-analysis/\n",
    "\n",
    "#we will detect wether there is a promotion in this month:\n",
    "monthAsString = {1:'Jan', 2:'Feb', 3:'Mar', 4:'Apr', 5:'May', 6:'Jun',\n",
    "                     7:'Jul', 8:'Aug', 9:'Sept', 10:'Oct', 11:'Nov', 12:'Dec'}\n",
    "result['MonthCompare'] = result.Month.map(monthAsString)\n",
    "\n",
    "result['IsPromo2Month'] = 0\n",
    "\n",
    "for interval in result.PromoInterval.unique():\n",
    "        if interval != -1:\n",
    "            for month in interval.split(','):\n",
    "                condition = (result.MonthCompare == month) & (result.PromoInterval == interval)\n",
    "                # If promo started this year, Week of Year must be > Promo2SinceWeek\n",
    "                cond1 = (condition & (result.Year == result.Promo2SinceYear)\n",
    "                         & (result.WeekOfYear >= result.Promo2SinceWeek) )\n",
    "                # Or If promo started previous year, Week of Year doesn't matter\n",
    "                cond2 = condition & (result.Year > result.Promo2SinceYear)\n",
    "                final_condition = cond1 | cond2\n",
    "                result.loc[final_condition, 'IsPromo2Month'] = 1\n",
    "\n",
    "\n",
    "# detect if there is competition open at the time of the evaluation\n",
    "result['Competition'] = 0\n",
    "first_condition = result.Year > result.CompetitionOpenSinceYear\n",
    "second_condition = ((result.Year == result.CompetitionOpenSinceYear)\n",
    "          & (result.Month >= result.CompetitionOpenSinceMonth))\n",
    "fullcond = first_condition | second_condition\n",
    "result.loc[fullcond, 'Competition'] = 1"
   ]
  },
  {
   "cell_type": "code",
   "execution_count": 7,
   "metadata": {
    "collapsed": true
   },
   "outputs": [],
   "source": [
    "# replace the caracters by numbers, to be used in decision trees later\n",
    "mappings = {'0':0, 'a':1, 'b':2, 'c':3, 'd':4}\n",
    "result.StateHoliday.replace(mappings, inplace=True)\n",
    "result.StoreType.replace(mappings, inplace=True)\n",
    "result.Assortment.replace(mappings, inplace=True)"
   ]
  },
  {
   "cell_type": "code",
   "execution_count": 8,
   "metadata": {},
   "outputs": [],
   "source": [
    "#drop data that is not important anymore\n",
    "result.drop(['MonthCompare','PromoInterval','Date'], axis=1, inplace=True)"
   ]
  },
  {
   "cell_type": "code",
   "execution_count": 9,
   "metadata": {
    "collapsed": true
   },
   "outputs": [],
   "source": [
    "# By analizing the data some funny behaviour can happen in the beginning or the end of every month\n",
    "# to adress this issue we add 2 more parameters to identify the beginning and end of month\n",
    "# finally in general the month of december behaves very differently than the others\n",
    "# because of christmas.\n",
    "\n",
    "result['Friday'] = 0\n",
    "result['EarlyInMonth'] = 0\n",
    "result['LateInMonth'] = 0\n",
    "result['December'] = 0\n",
    "result.loc[result.DayOfWeek == 5,'Friday'] = 1\n",
    "result.loc[result.Day < 5, 'EarlyInMonth'] = 1\n",
    "result.loc[result.Day > 25, 'LateInMonth'] = 1\n",
    "result.loc[result.Month == 12,'December'] = 1"
   ]
  },
  {
   "cell_type": "code",
   "execution_count": 10,
   "metadata": {
    "collapsed": true
   },
   "outputs": [],
   "source": [
    "# redivide the result dataframe in the testing and the training sets\n",
    "df = result.iloc[:number_train,:]\n",
    "test = result.iloc[number_train:,:]"
   ]
  },
  {
   "cell_type": "code",
   "execution_count": 11,
   "metadata": {},
   "outputs": [],
   "source": [
    "# conversion everything to float32 to have uniform format.\n",
    "df = df.astype(np.float32)\n",
    "test = test.astype(np.float32)"
   ]
  },
  {
   "cell_type": "code",
   "execution_count": 12,
   "metadata": {
    "collapsed": true
   },
   "outputs": [],
   "source": [
    "#convert a numpy array\n",
    "data_train = df.values\n",
    "sales_train = pandas.DataFrame.as_matrix(sales_train)\n",
    "sales_train = sales_train.reshape(len(sales_train),)\n",
    "#make a copy of the test data in a numoy array format\n",
    "testing = test.values"
   ]
  },
  {
   "cell_type": "code",
   "execution_count": 13,
   "metadata": {
    "collapsed": true
   },
   "outputs": [],
   "source": [
    "X = data_train\n",
    "y = sales_train"
   ]
  },
  {
   "cell_type": "code",
   "execution_count": 14,
   "metadata": {
    "collapsed": true
   },
   "outputs": [],
   "source": [
    "X_train, X_valid, y_train, y_valid = train_test_split(X, y, test_size=0.012)"
   ]
  },
  {
   "cell_type": "code",
   "execution_count": 15,
   "metadata": {},
   "outputs": [
    {
     "data": {
      "text/plain": [
       "RandomForestRegressor(bootstrap=True, criterion='mse', max_depth=None,\n",
       "           max_features='auto', max_leaf_nodes=None,\n",
       "           min_impurity_split=1e-07, min_samples_leaf=1,\n",
       "           min_samples_split=2, min_weight_fraction_leaf=0.0,\n",
       "           n_estimators=100, n_jobs=1, oob_score=False, random_state=None,\n",
       "           verbose=0, warm_start=False)"
      ]
     },
     "execution_count": 15,
     "metadata": {},
     "output_type": "execute_result"
    }
   ],
   "source": [
    "randomforest = RandomForestRegressor(n_estimators=100, max_features = 'auto')\n",
    "randomforest.fit(X_train,y_train)"
   ]
  },
  {
   "cell_type": "code",
   "execution_count": 16,
   "metadata": {
    "collapsed": true
   },
   "outputs": [],
   "source": [
    "def rmspe(y,y_pred):\n",
    "    summ = 0\n",
    "    for i in range(len(y)):\n",
    "        if y[i] != 0:\n",
    "            summ += (1-y_pred[i]/y[i])**2\n",
    "    return sqrt(summ/len(y))"
   ]
  },
  {
   "cell_type": "code",
   "execution_count": 17,
   "metadata": {
    "collapsed": true
   },
   "outputs": [],
   "source": [
    "prediction_of_sales = randomforest.predict(testing)\n",
    "\n",
    "for i in range (number_test) :\n",
    "    if test['Customers'].iloc[i] == 0 :\n",
    "        prediction_of_sales[i] = 0"
   ]
  },
  {
   "cell_type": "code",
   "execution_count": 20,
   "metadata": {},
   "outputs": [
    {
     "name": "stdout",
     "output_type": "stream",
     "text": [
      "error in samplle : %f 0.036298478992160974\n",
      "validation error : %f 0.09585530128367901\n"
     ]
    }
   ],
   "source": [
    "prediction_in_sample = randomforest.predict(X_train)\n",
    "prediction_validation = randomforest.predict(X_valid)\n",
    "\n",
    "print ('error in samplle : %f', rmspe (y_train, prediction_in_sample))\n",
    "print ('validation error : %f', rmspe (y_valid, prediction_validation))"
   ]
  },
  {
   "cell_type": "code",
   "execution_count": 21,
   "metadata": {
    "collapsed": true
   },
   "outputs": [],
   "source": [
    "submission_random_forest = pandas.DataFrame()\n",
    "submission_random_forest['Sales'] = prediction_of_sales\n",
    "# submission.Sales = submission.Sales.astype(int)\n",
    "cols = ['Id','Sales']\n",
    "submission_random_forest['Id'] = submission_random_forest.index + 1\n",
    "submission_random_forest = submission_random_forest[cols]\n",
    "submission_random_forest.to_csv('submission_random_forest.csv', index=False)"
   ]
  },
  {
   "cell_type": "code",
   "execution_count": null,
   "metadata": {
    "collapsed": true
   },
   "outputs": [],
   "source": []
  },
  {
   "cell_type": "code",
   "execution_count": null,
   "metadata": {
    "collapsed": true
   },
   "outputs": [],
   "source": []
  },
  {
   "cell_type": "code",
   "execution_count": null,
   "metadata": {
    "collapsed": true
   },
   "outputs": [],
   "source": []
  },
  {
   "cell_type": "code",
   "execution_count": null,
   "metadata": {
    "collapsed": true
   },
   "outputs": [],
   "source": []
  },
  {
   "cell_type": "code",
   "execution_count": null,
   "metadata": {
    "collapsed": true
   },
   "outputs": [],
   "source": []
  },
  {
   "cell_type": "code",
   "execution_count": null,
   "metadata": {
    "collapsed": true
   },
   "outputs": [],
   "source": []
  },
  {
   "cell_type": "code",
   "execution_count": null,
   "metadata": {
    "collapsed": true
   },
   "outputs": [],
   "source": []
  },
  {
   "cell_type": "code",
   "execution_count": null,
   "metadata": {
    "collapsed": true
   },
   "outputs": [],
   "source": []
  },
  {
   "cell_type": "code",
   "execution_count": null,
   "metadata": {
    "collapsed": true
   },
   "outputs": [],
   "source": []
  },
  {
   "cell_type": "code",
   "execution_count": null,
   "metadata": {
    "collapsed": true,
    "scrolled": true
   },
   "outputs": [],
   "source": [
    "\n"
   ]
  },
  {
   "cell_type": "code",
   "execution_count": null,
   "metadata": {
    "collapsed": true
   },
   "outputs": [],
   "source": []
  },
  {
   "cell_type": "code",
   "execution_count": null,
   "metadata": {
    "collapsed": true
   },
   "outputs": [],
   "source": [
    "\n",
    "\n"
   ]
  },
  {
   "cell_type": "code",
   "execution_count": null,
   "metadata": {
    "collapsed": true
   },
   "outputs": [],
   "source": []
  },
  {
   "cell_type": "code",
   "execution_count": null,
   "metadata": {
    "collapsed": true
   },
   "outputs": [],
   "source": []
  },
  {
   "cell_type": "code",
   "execution_count": null,
   "metadata": {
    "collapsed": true
   },
   "outputs": [],
   "source": []
  },
  {
   "cell_type": "code",
   "execution_count": null,
   "metadata": {
    "collapsed": true
   },
   "outputs": [],
   "source": []
  },
  {
   "cell_type": "code",
   "execution_count": null,
   "metadata": {
    "collapsed": true
   },
   "outputs": [],
   "source": []
  },
  {
   "cell_type": "code",
   "execution_count": null,
   "metadata": {
    "collapsed": true,
    "scrolled": true
   },
   "outputs": [],
   "source": []
  },
  {
   "cell_type": "code",
   "execution_count": null,
   "metadata": {
    "collapsed": true
   },
   "outputs": [],
   "source": []
  },
  {
   "cell_type": "code",
   "execution_count": null,
   "metadata": {
    "collapsed": true
   },
   "outputs": [],
   "source": []
  },
  {
   "cell_type": "code",
   "execution_count": null,
   "metadata": {},
   "outputs": [],
   "source": []
  },
  {
   "cell_type": "code",
   "execution_count": null,
   "metadata": {
    "collapsed": true
   },
   "outputs": [],
   "source": []
  },
  {
   "cell_type": "code",
   "execution_count": null,
   "metadata": {
    "collapsed": true
   },
   "outputs": [],
   "source": []
  },
  {
   "cell_type": "code",
   "execution_count": null,
   "metadata": {
    "collapsed": true
   },
   "outputs": [],
   "source": []
  },
  {
   "cell_type": "code",
   "execution_count": null,
   "metadata": {},
   "outputs": [],
   "source": []
  },
  {
   "cell_type": "code",
   "execution_count": null,
   "metadata": {
    "collapsed": true
   },
   "outputs": [],
   "source": [
    "\n"
   ]
  },
  {
   "cell_type": "code",
   "execution_count": null,
   "metadata": {
    "collapsed": true
   },
   "outputs": [],
   "source": []
  },
  {
   "cell_type": "code",
   "execution_count": null,
   "metadata": {
    "collapsed": true
   },
   "outputs": [],
   "source": []
  },
  {
   "cell_type": "code",
   "execution_count": null,
   "metadata": {
    "collapsed": true
   },
   "outputs": [],
   "source": []
  },
  {
   "cell_type": "code",
   "execution_count": null,
   "metadata": {
    "collapsed": true,
    "scrolled": true
   },
   "outputs": [],
   "source": []
  },
  {
   "cell_type": "markdown",
   "metadata": {
    "collapsed": true
   },
   "source": [
    "0.2246684265967324   10\n",
    "0.19790389121535615  50\n",
    "0.19413401753256496  100\n",
    "0.19102393447665608  250\n",
    "0.1903307154295898   500\n",
    "0.19031775372145007  1000\n",
    "0.19000211033516165  50000\n",
    "0.19000798708563635  10000\n",
    "\n",
    "#-------------\n"
   ]
  },
  {
   "cell_type": "code",
   "execution_count": null,
   "metadata": {
    "collapsed": true
   },
   "outputs": [],
   "source": []
  },
  {
   "cell_type": "code",
   "execution_count": null,
   "metadata": {
    "collapsed": true
   },
   "outputs": [],
   "source": []
  },
  {
   "cell_type": "code",
   "execution_count": null,
   "metadata": {
    "collapsed": true
   },
   "outputs": [],
   "source": []
  },
  {
   "cell_type": "code",
   "execution_count": null,
   "metadata": {
    "collapsed": true
   },
   "outputs": [],
   "source": []
  },
  {
   "cell_type": "code",
   "execution_count": null,
   "metadata": {
    "collapsed": true
   },
   "outputs": [],
   "source": []
  },
  {
   "cell_type": "code",
   "execution_count": null,
   "metadata": {
    "collapsed": true
   },
   "outputs": [],
   "source": [
    "auto, nfeatures = 100, and all extra data taken out : result = 0.3758\n",
    "\n",
    "auto, nfeatures = 100 and kept some more features : result = 0.37458"
   ]
  },
  {
   "cell_type": "code",
   "execution_count": null,
   "metadata": {
    "collapsed": true
   },
   "outputs": [],
   "source": []
  },
  {
   "cell_type": "code",
   "execution_count": null,
   "metadata": {
    "collapsed": true
   },
   "outputs": [],
   "source": []
  },
  {
   "cell_type": "code",
   "execution_count": null,
   "metadata": {
    "collapsed": true
   },
   "outputs": [],
   "source": []
  },
  {
   "cell_type": "code",
   "execution_count": null,
   "metadata": {
    "collapsed": true
   },
   "outputs": [],
   "source": []
  },
  {
   "cell_type": "code",
   "execution_count": null,
   "metadata": {
    "collapsed": true
   },
   "outputs": [],
   "source": []
  },
  {
   "cell_type": "code",
   "execution_count": null,
   "metadata": {
    "collapsed": true
   },
   "outputs": [],
   "source": []
  },
  {
   "cell_type": "code",
   "execution_count": null,
   "metadata": {
    "collapsed": true
   },
   "outputs": [],
   "source": []
  },
  {
   "cell_type": "code",
   "execution_count": null,
   "metadata": {
    "collapsed": true
   },
   "outputs": [],
   "source": []
  },
  {
   "cell_type": "code",
   "execution_count": null,
   "metadata": {
    "collapsed": true
   },
   "outputs": [],
   "source": []
  },
  {
   "cell_type": "code",
   "execution_count": null,
   "metadata": {
    "collapsed": true
   },
   "outputs": [],
   "source": []
  },
  {
   "cell_type": "code",
   "execution_count": null,
   "metadata": {
    "collapsed": true
   },
   "outputs": [],
   "source": []
  },
  {
   "cell_type": "code",
   "execution_count": null,
   "metadata": {
    "collapsed": true
   },
   "outputs": [],
   "source": []
  }
 ],
 "metadata": {
  "kernelspec": {
   "display_name": "Python 3",
   "language": "python",
   "name": "python3"
  },
  "language_info": {
   "codemirror_mode": {
    "name": "ipython",
    "version": 3
   },
   "file_extension": ".py",
   "mimetype": "text/x-python",
   "name": "python",
   "nbconvert_exporter": "python",
   "pygments_lexer": "ipython3",
   "version": "3.6.1"
  }
 },
 "nbformat": 4,
 "nbformat_minor": 2
}
