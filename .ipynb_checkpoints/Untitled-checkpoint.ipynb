{
 "cells": [
  {
   "cell_type": "code",
   "execution_count": 4,
   "metadata": {},
   "outputs": [
    {
     "name": "stderr",
     "output_type": "stream",
     "text": [
      "/anaconda3/lib/python3.6/importlib/_bootstrap.py:205: RuntimeWarning: compiletime version 3.5 of module '_catboost' does not match runtime version 3.6\n",
      "  return f(*args, **kwds)\n"
     ]
    },
    {
     "name": "stdout",
     "output_type": "stream",
     "text": [
      "{'name': 'experiment', 'random_strength': 1, 'has_time': False, 'store_all_simple_ctr': False, 'verbose': False, 'use_best_model': False, 'feature_border_type': 'MinEntropy', 'loss_function': 'RMSE', 'rsm': 1, 'l2_leaf_reg': 3, 'depth': 6, 'learning_rate': 1, 'iterations': 500}\n"
     ]
    }
   ],
   "source": [
    "import numpy\n",
    "from catboost import CatBoostRegressor\n",
    "\n",
    "dataset = numpy.array([[1,4,5,6],[4,5,6,7],[30,40,50,60],[20,15,85,60]])\n",
    "train_labels = [1.2,3.4,9.5,24.5]\n",
    "model = CatBoostRegressor(learning_rate=1, depth=6, loss_function='RMSE')\n",
    "fit_model = model.fit(dataset, train_labels)\n",
    "\n",
    "print (fit_model.get_params())"
   ]
  },
  {
   "cell_type": "code",
   "execution_count": null,
   "metadata": {
    "collapsed": true
   },
   "outputs": [],
   "source": []
  }
 ],
 "metadata": {
  "kernelspec": {
   "display_name": "Python 3",
   "language": "python",
   "name": "python3"
  },
  "language_info": {
   "codemirror_mode": {
    "name": "ipython",
    "version": 3
   },
   "file_extension": ".py",
   "mimetype": "text/x-python",
   "name": "python",
   "nbconvert_exporter": "python",
   "pygments_lexer": "ipython3",
   "version": "3.6.2"
  }
 },
 "nbformat": 4,
 "nbformat_minor": 2
}
