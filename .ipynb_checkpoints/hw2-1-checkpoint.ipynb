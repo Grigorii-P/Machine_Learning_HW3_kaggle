{
 "cells": [
  {
   "cell_type": "markdown",
   "metadata": {
    "collapsed": true
   },
   "source": [
    "# Homework #1 - The Linear Model"
   ]
  },
  {
   "cell_type": "markdown",
   "metadata": {},
   "source": [
    "This is the README section for A0175196U's submission. Email - e0215898@u.nus.edu"
   ]
  },
  {
   "cell_type": "markdown",
   "metadata": {},
   "source": [
    "### Files included with this submission\n",
    "\n",
    "hw2-1.ipynb - including algorithm\n",
    "\n",
    "essay2.pdf - essay answers\n",
    "\n",
    "problem-1a.txt\n",
    "\n",
    "problem-2d.txt"
   ]
  },
  {
   "cell_type": "markdown",
   "metadata": {},
   "source": [
    "## Programming Exercise 1"
   ]
  },
  {
   "cell_type": "code",
   "execution_count": 1,
   "metadata": {
    "collapsed": true
   },
   "outputs": [],
   "source": [
    "import numpy as np\n",
    "import numpy.random as nr\n",
    "import matplotlib.pyplot as pl\n",
    "from mpl_toolkits.mplot3d import Axes3D as ax\n",
    "from matplotlib import cm\n",
    "%matplotlib inline\n",
    "# Plotting with style! \n",
    "import seaborn as sb \n",
    "import math\n",
    "from random import randint\n",
    "from IPython.display import Image\n",
    "from sklearn import svm\n",
    "\n",
    "# Size the plot appropriately for online display\n",
    "pl.rcParams['figure.figsize'] = (12.0, 10.0)"
   ]
  },
  {
   "cell_type": "code",
   "execution_count": 2,
   "metadata": {
    "collapsed": true
   },
   "outputs": [],
   "source": [
    "# load datasets code ----------------------------------------\n",
    "\n",
    "# Problem 1\n",
    "train_data = []\n",
    "with open('hw2-1-train.txt') as f:\n",
    "    train_data = [[float(x) for x in line.split()] for line in f]\n",
    "train_data = np.array(train_data)\n",
    "X_train = train_data[:,1:len(train_data[0])]\n",
    "Y_train = train_data[:,0]\n",
    "Y_train = np.ravel(Y_train)   \n",
    "    \n",
    "test_data = []\n",
    "with open('hw2-1-test.txt') as f:\n",
    "    test_data = [[float(x) for x in line.split()] for line in f]\n",
    "test_data = np.array(test_data)\n",
    "X_test = test_data[:,1:len(test_data[0])]\n",
    "Y_test = test_data[:,0]\n",
    "Y_test = np.ravel(Y_test)\n",
    "\n",
    "# Problem 2\n",
    "X_train2 = []\n",
    "Y_train2 = []\n",
    "length = 4971\n",
    "with open('hw2-2-train.txt') as f:\n",
    "    for line in f:\n",
    "        line = line.split(' ')\n",
    "        lineX = line[1:-1]\n",
    "        lineX = [float(x[x.index(':')+1:len(x)]) for x in lineX]\n",
    "        lineY = line[0:1]\n",
    "        lineY = [float(x) for x in lineY]\n",
    "        X_train2.append(lineX)\n",
    "        Y_train2.append(lineY)\n",
    "X_train2 = np.array([xi+[0.0]*(length-len(xi)) for xi in X_train2])\n",
    "Y_train2 = np.array(Y_train2)\n",
    "\n",
    "\n",
    "X_test2 = []\n",
    "Y_test2 = []\n",
    "with open('hw2-2-test.txt') as f:\n",
    "    for line in f:\n",
    "        line = line.split(' ')\n",
    "        lineX = line[1:-1]\n",
    "        lineX = [float(x[x.index(':')+1:len(x)]) for x in lineX]\n",
    "        lineY = line[0:1]\n",
    "        lineY = [float(x) for x in lineY]\n",
    "        X_test2.append(lineX)\n",
    "        Y_test2.append(lineY)\n",
    "X_test2 = np.array(X_test2)\n",
    "Y_test2 = np.array(Y_test2)\n",
    "\n",
    "# Evaluation code ----------------------------------------\n",
    "\n",
    "def Err(Y1,Y2):\n",
    "    N = Y1.shape[0]\n",
    "    count = 0\n",
    "    for i in range(N):\n",
    "        if (Y1[i]!=Y2[i]):\n",
    "            count += 1\n",
    "    return count/N\n",
    "\n",
    "# SVM code ----------------------------------------\n",
    "\n",
    "def svmTrain(dataTrain, labelTrain, cost, kernel, gamma, degree, coef0):\n",
    "    svmModel = svm.SVC(kernel=kernel, gamma=gamma, C=cost, degree=degree, coef0=coef0)\n",
    "    svmModel.fit(dataTrain, labelTrain)\n",
    "    sv_for_each_class = svmModel.n_support_\n",
    "    totalSV = sv_for_each_class[0] + sv_for_each_class[1]\n",
    "    return svmModel, totalSV\n",
    "\n",
    "def svmPredict(dataTrain, labelTrain, svmModel):\n",
    "    predict = svmModel.predict(dataTrain)\n",
    "    return 1 - Err(predict, labelTrain)"
   ]
  },
  {
   "cell_type": "markdown",
   "metadata": {},
   "source": [
    "### Problem 1"
   ]
  },
  {
   "cell_type": "markdown",
   "metadata": {},
   "source": [
    "### a)"
   ]
  },
  {
   "cell_type": "code",
   "execution_count": 24,
   "metadata": {
    "scrolled": true
   },
   "outputs": [
    {
     "name": "stdout",
     "output_type": "stream",
     "text": [
      "50 points --------------\n",
      "\n",
      "Kernel: linear\n",
      "Cost: 1\n",
      "Number of Support Vectors: 2\n",
      "Train Accuracy: 1.0\n",
      "Test Accuracy: 0.9716981132075472\n",
      "\n",
      "100 points --------------\n",
      "\n",
      "Kernel: linear\n",
      "Cost: 1\n",
      "Number of Support Vectors: 4\n",
      "Train Accuracy: 1.0\n",
      "Test Accuracy: 0.9787735849056604\n",
      "\n",
      "200 points --------------\n",
      "\n",
      "Kernel: linear\n",
      "Cost: 1\n",
      "Number of Support Vectors: 4\n",
      "Train Accuracy: 1.0\n",
      "Test Accuracy: 0.9811320754716981\n",
      "\n",
      "800 points --------------\n",
      "\n",
      "Kernel: linear\n",
      "Cost: 1\n",
      "Number of Support Vectors: 10\n",
      "Train Accuracy: 0.9975\n",
      "Test Accuracy: 0.9787735849056604\n",
      "\n"
     ]
    }
   ],
   "source": [
    "fo = open('problem-1a.txt', 'w')\n",
    "\n",
    "dataTrain = X_train\n",
    "labelTrain = Y_train\n",
    "dataTest = X_test\n",
    "labelTest = Y_test\n",
    "cost = 1\n",
    "kernel = 'linear'\n",
    "gamma = 'auto'\n",
    "degree = 3\n",
    "coef0 = 0\n",
    "\n",
    "svmModel, totalSV  = svmTrain(dataTrain, labelTrain, cost, kernel, gamma, degree, coef0)\n",
    "trainAccuracy = svmPredict(dataTrain, labelTrain, svmModel)\n",
    "testAccuracy = svmPredict(dataTest, labelTest, svmModel)\n",
    "\n",
    "fo.write(\"Kernel: \"+ str(kernel)+\"\\n\")\n",
    "fo.write(\"Cost: \"+ str(cost)+ \"\\n\")\n",
    "fo.write(\"Number of Support Vectors: \"+ str(totalSV)+\"\\n\")\n",
    "fo.write(\"Train Accuracy: \"+ str(trainAccuracy)+\"\\n\")\n",
    "fo.write(\"Test Accuracy: \" + str(testAccuracy)+\"\\n\")\n",
    "fo.close()\n",
    "\n",
    "cost = 1\n",
    "n = 0\n",
    "for i in range(4):\n",
    "    if i==2:\n",
    "        n *= 2\n",
    "    elif i==3:\n",
    "        n *= 4\n",
    "    else: n += 50\n",
    "    svmModel, totalSV  = svmTrain(dataTrain[0:n], labelTrain[0:n], cost, kernel, gamma, degree, coef0)\n",
    "    trainAccuracy = svmPredict(dataTrain[0:n], labelTrain[0:n], svmModel)\n",
    "    testAccuracy = svmPredict(dataTest, labelTest, svmModel)\n",
    "    print(str(n)+' points --------------'+\"\\n\")\n",
    "    print(\"Kernel: \"+ str(kernel))\n",
    "    print(\"Cost: \"+ str(cost))\n",
    "    print(\"Number of Support Vectors: \"+ str(totalSV))\n",
    "    print(\"Train Accuracy: \"+ str(trainAccuracy))\n",
    "    print(\"Test Accuracy: \" + str(testAccuracy)+\"\\n\")"
   ]
  },
  {
   "cell_type": "markdown",
   "metadata": {},
   "source": [
    "### b)"
   ]
  },
  {
   "cell_type": "code",
   "execution_count": 25,
   "metadata": {
    "scrolled": true
   },
   "outputs": [
    {
     "name": "stdout",
     "output_type": "stream",
     "text": [
      "Cost = 0.0001, Q = 5\n",
      "E_in = 0.005124919923126248\n",
      "Cost = 0.0001, Q = 2\n",
      "E_in = 0.018577834721332454\n",
      "\n",
      "Cost = 0.001, Q = 5\n",
      "totalSV = 26\n",
      "Cost = 0.001, Q = 2\n",
      "totalSV = 142\n",
      "\n",
      "Cost = 0.01, Q = 5\n",
      "E_in = 0.0038436899423446302\n",
      "Cost = 0.01, Q = 2\n",
      "E_in = 0.004484304932735439\n",
      "\n",
      "Cost = 1, Q = 5\n",
      "E_out = 0.018867924528301883\n",
      "Cost = 1, Q = 2\n",
      "E_out = 0.018867924528301883\n",
      "\n"
     ]
    }
   ],
   "source": [
    "kernel = 'poly'\n",
    "coef0 = 1\n",
    "\n",
    "cost = 0.0001\n",
    "for i in range(2):\n",
    "    if i==0:\n",
    "        degree = 5\n",
    "    else:\n",
    "        degree = 2\n",
    "    svmModel, totalSV  = svmTrain(dataTrain, labelTrain, cost, kernel, gamma, degree, coef0)\n",
    "    trainAccuracy = svmPredict(dataTrain, labelTrain, svmModel)\n",
    "    testAccuracy = svmPredict(dataTest, labelTest, svmModel)\n",
    "    print('Cost = '+str(cost)+', Q = '+str(degree))\n",
    "    print('E_in = '+str(1-trainAccuracy))\n",
    "print()\n",
    "\n",
    "cost = 0.001\n",
    "for i in range(2):\n",
    "    if i==0:\n",
    "        degree = 5\n",
    "    else:\n",
    "        degree = 2\n",
    "    svmModel, totalSV  = svmTrain(dataTrain, labelTrain, cost, kernel, gamma, degree, coef0)\n",
    "    trainAccuracy = svmPredict(dataTrain, labelTrain, svmModel)\n",
    "    testAccuracy = svmPredict(dataTest, labelTest, svmModel)\n",
    "    print('Cost = '+str(cost)+', Q = '+str(degree))\n",
    "    print('totalSV = '+str(totalSV))\n",
    "print()\n",
    "\n",
    "cost = 0.01\n",
    "for i in range(2):\n",
    "    if i==0:\n",
    "        degree = 5\n",
    "    else:\n",
    "        degree = 2\n",
    "    svmModel, totalSV  = svmTrain(dataTrain, labelTrain, cost, kernel, gamma, degree, coef0)\n",
    "    trainAccuracy = svmPredict(dataTrain, labelTrain, svmModel)\n",
    "    testAccuracy = svmPredict(dataTest, labelTest, svmModel)\n",
    "    print('Cost = '+str(cost)+', Q = '+str(degree))\n",
    "    print('E_in = '+str(1-trainAccuracy))\n",
    "print()\n",
    "\n",
    "cost = 1\n",
    "for i in range(2):\n",
    "    if i==0:\n",
    "        degree = 5\n",
    "    else:\n",
    "        degree = 2\n",
    "    svmModel, totalSV  = svmTrain(dataTrain, labelTrain, cost, kernel, gamma, degree, coef0)\n",
    "    trainAccuracy = svmPredict(dataTrain, labelTrain, svmModel)\n",
    "    testAccuracy = svmPredict(dataTest, labelTest, svmModel)\n",
    "    print('Cost = '+str(cost)+', Q = '+str(degree))\n",
    "    print('E_out = '+str(1-testAccuracy))\n",
    "print()"
   ]
  },
  {
   "cell_type": "markdown",
   "metadata": {},
   "source": [
    "As can be seen from the experiment, the correct statement is the second one"
   ]
  },
  {
   "cell_type": "markdown",
   "metadata": {},
   "source": [
    "### c)"
   ]
  },
  {
   "cell_type": "code",
   "execution_count": 26,
   "metadata": {
    "scrolled": true
   },
   "outputs": [
    {
     "name": "stdout",
     "output_type": "stream",
     "text": [
      "Cost = 0.01\n",
      "E_in  = 0.0038436899423446302\n",
      "E_out = 0.021226415094339646\n",
      "\n",
      "Cost = 1.0\n",
      "E_in  = 0.004484304932735439\n",
      "E_out = 0.021226415094339646\n",
      "\n",
      "Cost = 100.0\n",
      "E_in  = 0.0032030749519538215\n",
      "E_out = 0.018867924528301883\n",
      "\n",
      "Cost = 10000.0\n",
      "E_in  = 0.002562459961563124\n",
      "E_out = 0.018867924528301883\n",
      "\n",
      "Cost = 1000000.0\n",
      "E_in  = 0.0012812299807815064\n",
      "E_out = 0.021226415094339646\n",
      "\n"
     ]
    }
   ],
   "source": [
    "kernel = 'rbf'\n",
    "coef0 = 0\n",
    "\n",
    "cost = 0.0001\n",
    "for i in range(5):\n",
    "    cost *= 100 \n",
    "    svmModel, totalSV  = svmTrain(dataTrain, labelTrain, cost, kernel, gamma, degree, coef0)\n",
    "    trainAccuracy = svmPredict(dataTrain, labelTrain, svmModel)\n",
    "    testAccuracy = svmPredict(dataTest, labelTest, svmModel)\n",
    "    print('Cost = '+str(cost))\n",
    "    print('E_in  = '+str(1-trainAccuracy))\n",
    "    print('E_out = '+str(1-testAccuracy))\n",
    "    print()"
   ]
  },
  {
   "cell_type": "markdown",
   "metadata": {},
   "source": [
    "The lowest E_in can be seen when the cost is 10^6\n",
    "\n",
    "The lowest E_out is of the cost = 10^2 and 10^4\n",
    "\n",
    "After a certain value of 'cost' values of E_in and E_out start to decrease"
   ]
  },
  {
   "cell_type": "markdown",
   "metadata": {},
   "source": [
    "### Problem 2"
   ]
  },
  {
   "cell_type": "markdown",
   "metadata": {},
   "source": [
    "### d)"
   ]
  },
  {
   "cell_type": "code",
   "execution_count": 3,
   "metadata": {},
   "outputs": [
    {
     "name": "stderr",
     "output_type": "stream",
     "text": [
      "/anaconda3/lib/python3.6/site-packages/sklearn/utils/validation.py:547: DataConversionWarning: A column-vector y was passed when a 1d array was expected. Please change the shape of y to (n_samples, ), for example using ravel().\n",
      "  y = column_or_1d(y, warn=True)\n"
     ]
    }
   ],
   "source": [
    "fo = open('problem-2d.txt', 'w')\n",
    "\n",
    "dataTrain = X_train2\n",
    "labelTrain = Y_train2\n",
    "dataTest = X_test2\n",
    "labelTest = Y_test2\n",
    "cost = 1\n",
    "kernel = 'linear'\n",
    "gamma = 0.001\n",
    "degree = 2\n",
    "coef0 = 1\n",
    "\n",
    "svmModel, totalSV  = svmTrain(dataTrain, labelTrain, cost, kernel, gamma, degree, coef0)\n",
    "trainAccuracy = svmPredict(dataTrain, labelTrain, svmModel)\n",
    "testAccuracy = svmPredict(dataTest, labelTest, svmModel)\n",
    "\n",
    "fo.write(\"Kernel: \"+ str(kernel)+\"\\n\")\n",
    "fo.write(\"Cost: \"+ str(cost)+ \"\\n\")\n",
    "fo.write(\"Number of Support Vectors: \"+ str(totalSV)+\"\\n\")\n",
    "fo.write(\"Train Accuracy: \"+ str(trainAccuracy)+\"\\n\")\n",
    "fo.write(\"Test Accuracy: \" + str(testAccuracy)+\"\\n\")\n",
    "fo.close()"
   ]
  },
  {
   "cell_type": "markdown",
   "metadata": {},
   "source": [
    "\n",
    "### e)"
   ]
  },
  {
   "cell_type": "code",
   "execution_count": 28,
   "metadata": {},
   "outputs": [
    {
     "name": "stderr",
     "output_type": "stream",
     "text": [
      "/anaconda3/lib/python3.6/site-packages/sklearn/utils/validation.py:547: DataConversionWarning: A column-vector y was passed when a 1d array was expected. Please change the shape of y to (n_samples, ), for example using ravel().\n",
      "  y = column_or_1d(y, warn=True)\n"
     ]
    },
    {
     "name": "stdout",
     "output_type": "stream",
     "text": [
      "Kernel: rbf\n",
      "Cost: 1\n",
      "Number of Support Vectors: 2600\n",
      "Train Accuracy: 0.9988333333333334\n",
      "Test Accuracy: 0.514\n",
      "\n",
      "Kernel: poly\n",
      "Cost: 1\n",
      "Number of Support Vectors: 1268\n",
      "Train Accuracy: 1.0\n",
      "Test Accuracy: 0.544\n",
      "\n"
     ]
    }
   ],
   "source": [
    "kernel = 'rbf'\n",
    "gamma = 0.001\n",
    "degree = 2\n",
    "coef0 = 1\n",
    "\n",
    "svmModel, totalSV  = svmTrain(dataTrain, labelTrain, cost, kernel, gamma, degree, coef0)\n",
    "trainAccuracy = svmPredict(dataTrain, labelTrain, svmModel)\n",
    "testAccuracy = svmPredict(dataTest, labelTest, svmModel)\n",
    "print(\"Kernel: \"+ str(kernel))\n",
    "print(\"Cost: \"+ str(cost))\n",
    "print(\"Number of Support Vectors: \"+ str(totalSV))\n",
    "print(\"Train Accuracy: \"+ str(trainAccuracy))\n",
    "print(\"Test Accuracy: \" + str(testAccuracy)+\"\\n\")\n",
    "\n",
    "kernel = 'poly'\n",
    "\n",
    "svmModel, totalSV  = svmTrain(dataTrain, labelTrain, cost, kernel, gamma, degree, coef0)\n",
    "trainAccuracy = svmPredict(dataTrain, labelTrain, svmModel)\n",
    "testAccuracy = svmPredict(dataTest, labelTest, svmModel)\n",
    "print(\"Kernel: \"+ str(kernel))\n",
    "print(\"Cost: \"+ str(cost))\n",
    "print(\"Number of Support Vectors: \"+ str(totalSV))\n",
    "print(\"Train Accuracy: \"+ str(trainAccuracy))\n",
    "print(\"Test Accuracy: \" + str(testAccuracy)+\"\\n\")"
   ]
  },
  {
   "cell_type": "markdown",
   "metadata": {},
   "source": [
    "## Statement of Individual Work\n",
    "\n",
    "Please initial (between the square brackets) one of the following statements.\n",
    "\n",
    "[GP] I, A0175196U, certify that I have followed the CS 3244 Machine Learning class guidelines for homework assignments.  In particular, I expressly vow that I have followed the Facebook rule in discussing with others in doing the assignment and did not take notes (digital or printed) from the discussions. \n",
    "\n",
    "[ ] I, <*substitute your matric number here*>, did not follow the class rules regarding the homework assignment, because of the following reason:\n",
    "\n",
    "\n",
    "### References\n"
   ]
  },
  {
   "cell_type": "code",
   "execution_count": null,
   "metadata": {
    "collapsed": true
   },
   "outputs": [],
   "source": []
  }
 ],
 "metadata": {
  "kernelspec": {
   "display_name": "Python 3",
   "language": "python",
   "name": "python3"
  },
  "language_info": {
   "codemirror_mode": {
    "name": "ipython",
    "version": 3
   },
   "file_extension": ".py",
   "mimetype": "text/x-python",
   "name": "python",
   "nbconvert_exporter": "python",
   "pygments_lexer": "ipython3",
   "version": "3.6.2"
  }
 },
 "nbformat": 4,
 "nbformat_minor": 1
}
