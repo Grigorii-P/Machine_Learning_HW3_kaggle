{
 "cells": [
  {
   "cell_type": "code",
   "execution_count": 1,
   "metadata": {},
   "outputs": [
    {
     "name": "stderr",
     "output_type": "stream",
     "text": [
      "/anaconda3/lib/python3.6/importlib/_bootstrap.py:205: RuntimeWarning: compiletime version 3.5 of module '_catboost' does not match runtime version 3.6\n",
      "  return f(*args, **kwds)\n"
     ]
    }
   ],
   "source": [
    "import pandas as pd\n",
    "import numpy as np\n",
    "from catboost import Pool, CatBoostRegressor, CatboostIpythonWidget\n",
    "from sklearn.model_selection import train_test_split\n",
    "from sklearn.metrics import mean_squared_error\n",
    "from math import sqrt\n",
    "from sklearn.ensemble import RandomForestRegressor"
   ]
  },
  {
   "cell_type": "code",
   "execution_count": 2,
   "metadata": {},
   "outputs": [],
   "source": [
    "def rmspe(y,y_pred):\n",
    "    summ = 0\n",
    "    for i in range(len(y)):\n",
    "        if y.iloc[i] != 0:\n",
    "            summ += (1-y_pred[i]/y.iloc[i])**2\n",
    "    return sqrt(summ/len(y))\n",
    "\n",
    "def substract_cols(df):\n",
    "    df['CompetitionOpen'] = 12 * (df.Year - df['CompetitionOpenSinceYear']) + (df.Month - df['CompetitionOpenSinceMonth'])\n",
    "    df['CompetitionOpen'] = df.CompetitionOpen.apply(lambda x: x if x > 0 else 0)\n",
    "    df.loc[df['CompetitionOpenSinceYear'] < 0, 'CompetitionOpen'] = 0\n",
    "    df['PromoOpen'] = 12 * (df.Year - df.Promo2SinceYear) + (df['WeekOfYear'] - df['Promo2SinceWeek']) / 4.0\n",
    "    df['PromoOpen'] = df.PromoOpen.apply(lambda x: x if x > 0 else 0)\n",
    "    df.loc[df['Promo2SinceYear'] == 0, 'PromoOpen'] = 0\n",
    "    df.loc[df['Promo2SinceYear'] < 0, 'PromoOpen'] = 0\n",
    "    df.drop(['CompetitionOpenSinceYear',\n",
    "             'CompetitionOpenSinceMonth',\n",
    "             'Promo2SinceYear',\n",
    "             'Promo2SinceWeek'], axis=1, inplace=True)\n",
    "    return df"
   ]
  },
  {
   "cell_type": "code",
   "execution_count": 18,
   "metadata": {
    "scrolled": false
   },
   "outputs": [
    {
     "name": "stderr",
     "output_type": "stream",
     "text": [
      "/anaconda3/lib/python3.6/site-packages/IPython/core/interactiveshell.py:2698: DtypeWarning: Columns (7) have mixed types. Specify dtype option on import or set low_memory=False.\n",
      "  interactivity=interactivity, compiler=compiler, result=result)\n"
     ]
    }
   ],
   "source": [
    "df_train = pd.read_csv('data/train_v2.csv')\n",
    "df_train['Date']  = pd.to_datetime(df_train['Date'], errors='coerce')\n",
    "df_train['Year'] = df_train['Date'].dt.year\n",
    "df_train['Month'] = df_train['Date'].dt.month\n",
    "df_train['WeekOfYear'] = df_train['Date'].dt.weekofyear\n",
    "df_train['Day'] = df_train['Date'].dt.day\n",
    "df_train = df_train.drop('Date', axis=1)\n",
    "\n",
    "df_test = pd.read_csv('data/test_v2.csv')\n",
    "df_test['Date']  = pd.to_datetime(df_test['Date'], errors='coerce')\n",
    "df_test['Year'] = df_test['Date'].dt.year\n",
    "df_test['Month'] = df_test['Date'].dt.month\n",
    "df_test['WeekOfYear'] = df_test['Date'].dt.weekofyear\n",
    "df_test['Day'] = df_test['Date'].dt.day\n",
    "df_test = df_test.drop('Date', axis=1)\n",
    "\n",
    "df_store = pd.read_csv('data/store.csv')\n",
    "df_store = df_store.fillna(-1)\n",
    "\n",
    "df_train = df_train[df_train.Sales > 0]\n",
    "df_train = df_train[df_train.Customers > 0]\n",
    "\n",
    "df_train_store = df_train.join(df_store.set_index('Store'), on='Store')\n",
    "df_train_store = substract_cols(df_train_store)\n",
    "df_train_store.drop(['Open','PromoInterval','Year','Month','WeekOfYear'], axis=1, inplace=True)\n",
    "\n",
    "df_test_store = df_test.join(df_store.set_index('Store'), on='Store')\n",
    "df_test_store = substract_cols(df_test_store)\n",
    "df_test_store.drop(['Open','PromoInterval','Year','Month','WeekOfYear'], axis=1, inplace=True)\n",
    "\n",
    "mappings = {'0':0, 'a':1, 'b':2, 'c':3, 'd':4}\n",
    "df_train_store.StateHoliday.replace(mappings, inplace=True)\n",
    "df_train_store.StoreType.replace(mappings, inplace=True)\n",
    "df_train_store.Assortment.replace(mappings, inplace=True)\n",
    "df_test_store.StoreType.replace(mappings, inplace=True)\n",
    "df_test_store.Assortment.replace(mappings, inplace=True)\n",
    "\n",
    "\n",
    "# df_train_store = df_train_store.astype(np.float32)\n",
    "# df_test_store = df_test_store.astype(np.float32)\n",
    "\n",
    "# df_train_store.drop(['CompetitionDistance', 'CompetitionOpenSinceMonth',\n",
    "#        'CompetitionOpenSinceYear', 'Promo2SinceWeek',\n",
    "#        'Promo2SinceYear', 'PromoInterval'], axis=1, inplace=True)\n",
    "# df_test_store.drop(['CompetitionDistance', 'CompetitionOpenSinceMonth',\n",
    "#        'CompetitionOpenSinceYear', 'Promo2SinceWeek',\n",
    "#        'Promo2SinceYear', 'PromoInterval'], axis=1, inplace=True)"
   ]
  },
  {
   "cell_type": "code",
   "execution_count": 19,
   "metadata": {
    "scrolled": true
   },
   "outputs": [
    {
     "name": "stderr",
     "output_type": "stream",
     "text": [
      "/anaconda3/lib/python3.6/site-packages/sklearn/model_selection/_split.py:2010: FutureWarning: From version 0.21, test_size will always complement train_size unless both are specified.\n",
      "  FutureWarning)\n"
     ]
    }
   ],
   "source": [
    "X = df_train_store.drop('Sales', axis=1)\n",
    "y = df_train_store.Sales\n",
    "\n",
    "X_test = df_test_store\n",
    "\n",
    "categorical_features_indices = [0,1,3,4,5,6,7,8,10]\n",
    "\n",
    "X_train, X_validation, y_train, y_validation = train_test_split(X, y, train_size=0.85, random_state=1234)"
   ]
  },
  {
   "cell_type": "code",
   "execution_count": 20,
   "metadata": {},
   "outputs": [
    {
     "name": "stdout",
     "output_type": "stream",
     "text": [
      "----------//----------\n",
      "depth is  10\n",
      "RMSPE is  0.09869970024043222\n"
     ]
    }
   ],
   "source": [
    "model = CatBoostRegressor()\n",
    "model.fit(\n",
    "#     X_train, y_train,\n",
    "    X, y,\n",
    "    cat_features=categorical_features_indices,\n",
    "#     eval_set=(X_validation, y_validation),\n",
    ")\n",
    "\n",
    "nic = pd.read_csv('nic_submission.csv')\n",
    "nic_pred = nic.Sales\n",
    "\n",
    "pred_test = model.predict(X_test)\n",
    "\n",
    "for i in range (X_test.shape[0]) :\n",
    "    if df_test_store['Customers'].iloc[i] == 0 :\n",
    "        pred_test[i] = 0\n",
    "        \n",
    "accuracy = rmspe(nic_pred, pred_test)\n",
    "print(\"----------//----------\")\n",
    "print(\"RMSPE is \",accuracy)"
   ]
  },
  {
   "cell_type": "code",
   "execution_count": 21,
   "metadata": {
    "collapsed": true
   },
   "outputs": [],
   "source": [
    "submission = pd.DataFrame()\n",
    "submission['Sales'] = pred_test\n",
    "# submission.Sales = submission.Sales.astype(int)\n",
    "cols = ['Id','Sales']\n",
    "submission['Id'] = submission.index + 1\n",
    "submission = submission[cols]\n",
    "submission.to_csv('submission.csv', index=False)"
   ]
  },
  {
   "cell_type": "code",
   "execution_count": 5,
   "metadata": {
    "collapsed": true
   },
   "outputs": [],
   "source": [
    "# (df_train_store['CompetitionDistance'] == -999).sum()\n",
    "\n",
    "# df_train.isnull().sum(axis=0)\n",
    "# X.dtypes\n",
    "\n",
    "# (df_train['Sales'] == 0).sum()"
   ]
  }
 ],
 "metadata": {
  "kernelspec": {
   "display_name": "Python 3",
   "language": "python",
   "name": "python3"
  },
  "language_info": {
   "codemirror_mode": {
    "name": "ipython",
    "version": 3
   },
   "file_extension": ".py",
   "mimetype": "text/x-python",
   "name": "python",
   "nbconvert_exporter": "python",
   "pygments_lexer": "ipython3",
   "version": "3.6.2"
  }
 },
 "nbformat": 4,
 "nbformat_minor": 2
}
