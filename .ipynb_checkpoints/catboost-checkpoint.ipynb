{
 "cells": [
  {
   "cell_type": "code",
   "execution_count": 27,
   "metadata": {},
   "outputs": [],
   "source": [
    "import pandas as pd\n",
    "from catboost import Pool, CatBoostRegressor, CatboostIpythonWidget\n",
    "from sklearn.model_selection import train_test_split\n",
    "from sklearn.metrics import mean_squared_error\n",
    "from math import sqrt"
   ]
  },
  {
   "cell_type": "code",
   "execution_count": 28,
   "metadata": {
    "collapsed": true
   },
   "outputs": [],
   "source": [
    "def rmspe(y,y_pred):\n",
    "    summ = 0\n",
    "    for i in range(len(y)):\n",
    "        if y.iloc[i] != 0:\n",
    "            summ += (1-y_pred[i]/y.iloc[i])**2\n",
    "    return sqrt(summ/len(y))"
   ]
  },
  {
   "cell_type": "code",
   "execution_count": 65,
   "metadata": {
    "scrolled": false
   },
   "outputs": [
    {
     "name": "stderr",
     "output_type": "stream",
     "text": [
      "/anaconda3/lib/python3.6/site-packages/IPython/core/interactiveshell.py:2698: DtypeWarning: Columns (7) have mixed types. Specify dtype option on import or set low_memory=False.\n",
      "  interactivity=interactivity, compiler=compiler, result=result)\n"
     ]
    }
   ],
   "source": [
    "df_train = pd.read_csv('data/train_v2.csv')\n",
    "df_train['Date']  = pd.to_datetime(df_train['Date'], errors='coerce')\n",
    "df_train['Year'] = df_train['Date'].dt.year\n",
    "df_train['Month'] = df_train['Date'].dt.month\n",
    "df_train['WeekOfYear'] = df_train['Date'].dt.dayofweek\n",
    "df_train['Day'] = df_train['Date'].dt.day\n",
    "df_train = df_train.drop('Date', axis=1)\n",
    "\n",
    "# df_train = df_train[df_train[\"Open\"] != 0]\n",
    "# df_train = df_train[df_train[\"Sales\"] > 0]\n",
    "\n",
    "df_test = pd.read_csv('data/test_v2.csv')\n",
    "df_test['Date']  = pd.to_datetime(df_test['Date'], errors='coerce')\n",
    "df_test['Year'] = df_test['Date'].dt.year\n",
    "df_test['Month'] = df_test['Date'].dt.month\n",
    "df_test['WeekOfYear'] = df_test['Date'].dt.dayofweek\n",
    "df_test['Day'] = df_test['Date'].dt.day\n",
    "df_test = df_test.drop('Date', axis=1)\n",
    "\n",
    "df_store = pd.read_csv('data/store.csv')\n",
    "df_store['CompetitionDistance'].fillna(-1,inplace=True)\n",
    "df_store['CompetitionOpenSinceMonth'].fillna(-1,inplace=True)\n",
    "df_store['CompetitionOpenSinceYear'].fillna(-1,inplace=True)\n",
    "df_store['Promo2SinceWeek'].fillna(0,inplace=True)\n",
    "df_store['Promo2SinceYear'].fillna(0,inplace=True)\n",
    "df_store['PromoInterval'].fillna(' ',inplace=True)\n",
    "\n",
    "df_train_store = df_train.join(df_store.set_index('Store'), on='Store')\n",
    "# df_train_store['CompetitionOpen'] = 12 * (df_train_store.Year - df_train_store.CompetitionOpenSinceYear) + \\\n",
    "#         (df_train_store.Month - df_train_store.CompetitionOpenSinceMonth)\n",
    "# df_train_store['CompetitionOpen'] = df_train_store.CompetitionOpen.apply(lambda x: x if x > 0 else 0)\n",
    "# df_train_store.loc[df_train_store.CompetitionOpenSinceYear < 0, 'CompetitionOpen'] = 0\n",
    "\n",
    "# df_train_store['PromoOpen'] = 12 * (df_train_store.Year - df_train_store.Promo2SinceYear) + \\\n",
    "#         (df_train_store.WeekOfYear - df_train_store.Promo2SinceWeek) / 4.0\n",
    "    \n",
    "# df_train_store['PromoOpen'] = df_train_store.PromoOpen.apply(lambda x: x if x > 0 else 0)\n",
    "# df_train_store.loc[df_train_store.Promo2SinceYear == 0, 'PromoOpen'] = 0\n",
    "\n",
    "# df_train_store.drop(['CompetitionOpenSinceYear',\n",
    "#                      'CompetitionOpenSinceMonth',\n",
    "#                      'Promo2SinceYear',\n",
    "#                      'Promo2SinceWeek'], axis=1, inplace=True)\n",
    "# df_train_store.drop(['Promo2','PromoInterval'], axis=1, inplace=True)\n",
    "\n",
    "\n",
    "\n",
    "df_train_store.drop(['Year','Month'], axis=1, inplace=True)\n",
    "\n",
    "\n",
    "\n",
    "df_test_store = df_test.join(df_store.set_index('Store'), on='Store')\n",
    "# df_test_store['CompetitionOpen'] = 12 * (df_test_store.Year - df_test_store.CompetitionOpenSinceYear) + \\\n",
    "#         (df_test_store.Month - df_test_store.CompetitionOpenSinceMonth)\n",
    "# df_test_store['CompetitionOpen'] = df_test_store.CompetitionOpen.apply(lambda x: x if x > 0 else 0)\n",
    "# df_test_store.loc[df_test_store.CompetitionOpenSinceYear < 0, 'CompetitionOpen'] = 0\n",
    "\n",
    "# df_test_store['PromoOpen'] = 12 * (df_test_store.Year - df_test_store.Promo2SinceYear) + \\\n",
    "#         (df_test_store.WeekOfYear - df_test_store.Promo2SinceWeek) / 4.0\n",
    "    \n",
    "# df_test_store['PromoOpen'] = df_test_store.PromoOpen.apply(lambda x: x if x > 0 else 0)\n",
    "# df_test_store.loc[df_test_store.Promo2SinceYear == 0, 'PromoOpen'] = 0\n",
    "\n",
    "# df_test_store.drop(['CompetitionOpenSinceYear',\n",
    "#                      'CompetitionOpenSinceMonth',\n",
    "#                      'Promo2SinceYear',\n",
    "#                      'Promo2SinceWeek'], axis=1, inplace=True)\n",
    "# df_test_store.drop(['Promo2','PromoInterval'], axis=1, inplace=True)\n",
    "\n",
    "\n",
    "df_test_store.drop(['Year','Month'], axis=1, inplace=True)\n",
    "\n",
    "df_train_store.drop(['CompetitionDistance', 'CompetitionOpenSinceMonth',\n",
    "       'CompetitionOpenSinceYear', 'Promo2SinceWeek',\n",
    "       'Promo2SinceYear', 'PromoInterval'], axis=1, inplace=True)\n",
    "df_test_store.drop(['CompetitionDistance', 'CompetitionOpenSinceMonth',\n",
    "       'CompetitionOpenSinceYear', 'Promo2SinceWeek',\n",
    "       'Promo2SinceYear', 'PromoInterval'], axis=1, inplace=True)"
   ]
  },
  {
   "cell_type": "code",
   "execution_count": 73,
   "metadata": {},
   "outputs": [
    {
     "name": "stdout",
     "output_type": "stream",
     "text": [
      "['0' 'a' 'c' 0]\n",
      "[0 1]\n"
     ]
    }
   ],
   "source": [
    "print (df_train.StateHoliday.unique())\n",
    "print (df_train.SchoolHoliday.unique())\n",
    "# df_train.head()"
   ]
  },
  {
   "cell_type": "code",
   "execution_count": 74,
   "metadata": {},
   "outputs": [
    {
     "name": "stdout",
     "output_type": "stream",
     "text": [
      "[0]\n",
      "[1 0]\n"
     ]
    }
   ],
   "source": [
    "print (df_test.StateHoliday.unique())\n",
    "print (df_test.SchoolHoliday.unique())"
   ]
  },
  {
   "cell_type": "code",
   "execution_count": null,
   "metadata": {
    "collapsed": true
   },
   "outputs": [],
   "source": []
  },
  {
   "cell_type": "code",
   "execution_count": null,
   "metadata": {
    "collapsed": true
   },
   "outputs": [],
   "source": [
    "# # Indicate that sales on that day are in promo interval\n",
    "#     features.append('IsPromoMonth')\n",
    "#     month2str = {1:'Jan', 2:'Feb', 3:'Mar', 4:'Apr', 5:'May', 6:'Jun', \\\n",
    "#              7:'Jul', 8:'Aug', 9:'Sept', 10:'Oct', 11:'Nov', 12:'Dec'}\n",
    "#     data['monthStr'] = data.Month.map(month2str)\n",
    "#     data.loc[data.PromoInterval == 0, 'PromoInterval'] = ''\n",
    "#     data['IsPromoMonth'] = 0\n",
    "#     for interval in data.PromoInterval.unique():\n",
    "#         if interval != '':\n",
    "#             for month in interval.split(','):\n",
    "#                 data.loc[(data.monthStr == month) & (data.PromoInterval == interval), 'IsPromoMonth'] = 1\n",
    "\n",
    "#     return data"
   ]
  },
  {
   "cell_type": "code",
   "execution_count": 62,
   "metadata": {},
   "outputs": [
    {
     "name": "stderr",
     "output_type": "stream",
     "text": [
      "/anaconda3/lib/python3.6/site-packages/sklearn/model_selection/_split.py:2010: FutureWarning: From version 0.21, test_size will always complement train_size unless both are specified.\n",
      "  FutureWarning)\n"
     ]
    }
   ],
   "source": [
    "X = df_train_store.drop('Sales', axis=1)\n",
    "y = df_train_store.Sales\n",
    "\n",
    "X_test = df_test_store\n",
    "\n",
    "categorical_features_indices = [0,1,3,4,5,6,7,8,9,10]\n",
    "\n",
    "X_train, X_validation, y_train, y_validation = train_test_split(X, y, train_size=0.85, random_state=1234)"
   ]
  },
  {
   "cell_type": "code",
   "execution_count": 61,
   "metadata": {
    "scrolled": true
   },
   "outputs": [
    {
     "data": {
      "text/html": [
       "<div>\n",
       "<style>\n",
       "    .dataframe thead tr:only-child th {\n",
       "        text-align: right;\n",
       "    }\n",
       "\n",
       "    .dataframe thead th {\n",
       "        text-align: left;\n",
       "    }\n",
       "\n",
       "    .dataframe tbody tr th {\n",
       "        vertical-align: top;\n",
       "    }\n",
       "</style>\n",
       "<table border=\"1\" class=\"dataframe\">\n",
       "  <thead>\n",
       "    <tr style=\"text-align: right;\">\n",
       "      <th></th>\n",
       "      <th>Store</th>\n",
       "      <th>DayOfWeek</th>\n",
       "      <th>Customers</th>\n",
       "      <th>Open</th>\n",
       "      <th>Promo</th>\n",
       "      <th>StateHoliday</th>\n",
       "      <th>WeekOfYear</th>\n",
       "      <th>Day</th>\n",
       "      <th>StoreType</th>\n",
       "      <th>Assortment</th>\n",
       "      <th>Promo2</th>\n",
       "    </tr>\n",
       "  </thead>\n",
       "  <tbody>\n",
       "    <tr>\n",
       "      <th>0</th>\n",
       "      <td>1</td>\n",
       "      <td>5</td>\n",
       "      <td>616</td>\n",
       "      <td>1</td>\n",
       "      <td>1</td>\n",
       "      <td>0</td>\n",
       "      <td>4</td>\n",
       "      <td>30</td>\n",
       "      <td>c</td>\n",
       "      <td>a</td>\n",
       "      <td>0</td>\n",
       "    </tr>\n",
       "    <tr>\n",
       "      <th>1</th>\n",
       "      <td>2</td>\n",
       "      <td>5</td>\n",
       "      <td>624</td>\n",
       "      <td>1</td>\n",
       "      <td>1</td>\n",
       "      <td>0</td>\n",
       "      <td>4</td>\n",
       "      <td>30</td>\n",
       "      <td>a</td>\n",
       "      <td>a</td>\n",
       "      <td>1</td>\n",
       "    </tr>\n",
       "    <tr>\n",
       "      <th>2</th>\n",
       "      <td>3</td>\n",
       "      <td>5</td>\n",
       "      <td>678</td>\n",
       "      <td>1</td>\n",
       "      <td>1</td>\n",
       "      <td>0</td>\n",
       "      <td>4</td>\n",
       "      <td>30</td>\n",
       "      <td>a</td>\n",
       "      <td>a</td>\n",
       "      <td>1</td>\n",
       "    </tr>\n",
       "    <tr>\n",
       "      <th>3</th>\n",
       "      <td>4</td>\n",
       "      <td>5</td>\n",
       "      <td>1632</td>\n",
       "      <td>1</td>\n",
       "      <td>1</td>\n",
       "      <td>0</td>\n",
       "      <td>4</td>\n",
       "      <td>30</td>\n",
       "      <td>c</td>\n",
       "      <td>c</td>\n",
       "      <td>0</td>\n",
       "    </tr>\n",
       "    <tr>\n",
       "      <th>4</th>\n",
       "      <td>5</td>\n",
       "      <td>5</td>\n",
       "      <td>617</td>\n",
       "      <td>1</td>\n",
       "      <td>1</td>\n",
       "      <td>0</td>\n",
       "      <td>4</td>\n",
       "      <td>30</td>\n",
       "      <td>a</td>\n",
       "      <td>a</td>\n",
       "      <td>0</td>\n",
       "    </tr>\n",
       "  </tbody>\n",
       "</table>\n",
       "</div>"
      ],
      "text/plain": [
       "   Store  DayOfWeek  Customers  Open  Promo StateHoliday  WeekOfYear  Day  \\\n",
       "0      1          5        616     1      1            0           4   30   \n",
       "1      2          5        624     1      1            0           4   30   \n",
       "2      3          5        678     1      1            0           4   30   \n",
       "3      4          5       1632     1      1            0           4   30   \n",
       "4      5          5        617     1      1            0           4   30   \n",
       "\n",
       "  StoreType Assortment  Promo2  \n",
       "0         c          a       0  \n",
       "1         a          a       1  \n",
       "2         a          a       1  \n",
       "3         c          c       0  \n",
       "4         a          a       0  "
      ]
     },
     "execution_count": 61,
     "metadata": {},
     "output_type": "execute_result"
    }
   ],
   "source": [
    "X.head()"
   ]
  },
  {
   "cell_type": "code",
   "execution_count": 63,
   "metadata": {},
   "outputs": [
    {
     "name": "stdout",
     "output_type": "stream",
     "text": [
      "----------//----------\n",
      "Depth is  6\n",
      "RMSPE is                 0.09051693401914605\n"
     ]
    }
   ],
   "source": [
    "model = CatBoostRegressor()\n",
    "model.fit(\n",
    "#     X_train, y_train,\n",
    "    X, y,\n",
    "    cat_features=categorical_features_indices,\n",
    "#     eval_set=(X_validation, y_validation),\n",
    ")\n",
    "print(\"----------//----------\")\n",
    "print(\"Depth is \", depth)\n",
    "pred = model.predict(X_validation)\n",
    "accuracy = rmspe(y_validation, pred)\n",
    "print(\"RMSPE is                \",accuracy)"
   ]
  },
  {
   "cell_type": "markdown",
   "metadata": {},
   "source": [
    "If you want to save predictions as .csv"
   ]
  },
  {
   "cell_type": "code",
   "execution_count": 64,
   "metadata": {
    "collapsed": true
   },
   "outputs": [],
   "source": [
    "pred_test = model.predict(X_test)\n",
    "\n",
    "submission = pd.DataFrame()\n",
    "submission['Sales'] = pred_test\n",
    "# submission.Sales = submission.Sales.astype(int)\n",
    "cols = ['Id','Sales']\n",
    "submission['Id'] = submission.index + 1\n",
    "submission = submission[cols]\n",
    "submission.to_csv('submission.csv', index=False)"
   ]
  },
  {
   "cell_type": "code",
   "execution_count": 5,
   "metadata": {
    "collapsed": true
   },
   "outputs": [],
   "source": [
    "# (df_train_store['CompetitionDistance'] == -999).sum()\n",
    "\n",
    "# df_train.isnull().sum(axis=0)\n",
    "# X.dtypes\n",
    "\n",
    "# (df_train['Sales'] == 0).sum()"
   ]
  }
 ],
 "metadata": {
  "kernelspec": {
   "display_name": "Python 3",
   "language": "python",
   "name": "python3"
  },
  "language_info": {
   "codemirror_mode": {
    "name": "ipython",
    "version": 3
   },
   "file_extension": ".py",
   "mimetype": "text/x-python",
   "name": "python",
   "nbconvert_exporter": "python",
   "pygments_lexer": "ipython3",
   "version": "3.6.2"
  }
 },
 "nbformat": 4,
 "nbformat_minor": 2
}
